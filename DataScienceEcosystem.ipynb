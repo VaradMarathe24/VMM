{
 "cells": [
  {
   "cell_type": "markdown",
   "id": "cbe1264e-93ad-4724-88c5-2256b8e4acb0",
   "metadata": {},
   "source": [
    "# Executing using h1 style heading \n",
    "# H1: Data Science tools and Ecosystem"
   ]
  },
  {
   "cell_type": "markdown",
   "id": "1562fe47-e55f-4f74-b939-57293cbcdcfc",
   "metadata": {},
   "source": [
    "# Introduction about the Jupyter notebook\n",
    "## H2:In this notebook, Data Science Tools and Ecosystem are summarized."
   ]
  },
  {
   "cell_type": "markdown",
   "id": "a2df1c16-0748-462b-b42c-9736a662bf8c",
   "metadata": {},
   "source": [
    "# Creating an ordered list of Data Science Languages\n",
    "### H3: The languages that are commonly used in the Data Science Domain are as follows:-\n",
    "1. Python\n",
    "2. R\n",
    "3. SQL\n",
    "4. Java\n",
    "5. VBA "
   ]
  },
  {
   "cell_type": "markdown",
   "id": "cfc2c647-7008-48e3-a6d9-e5fa9f406b59",
   "metadata": {},
   "source": [
    "# The commonly used libraries in the Data Science domain are as follows:-\n",
    "1. Tensorflow\n",
    "2. Keras\n",
    "3. Numpy\n",
    "4. Matplotlib\n",
    "5. ggplot2\n",
    "6. Pandas\n",
    "7. Scikitlearn"
   ]
  },
  {
   "cell_type": "markdown",
   "id": "99089fce-1cee-4b81-940d-f6d450f5fc01",
   "metadata": {},
   "source": [
    "# Table of Data science tools\n",
    "\n",
    "| Data Science Tools|\n",
    "| -------------| \n",
    "|SAS |\n",
    "| Jupyter Notebook| \n",
    "| R Studio |\n"
   ]
  },
  {
   "cell_type": "markdown",
   "id": "14c66ad9-6184-47a8-8f88-9190bae4f888",
   "metadata": {},
   "source": [
    "# H3:Below are a few examples of evaluating arithmetic expressions in Python"
   ]
  },
  {
   "cell_type": "code",
   "execution_count": 1,
   "id": "6625e123-d38d-4fa0-9fef-18416a71d4b8",
   "metadata": {
    "tags": []
   },
   "outputs": [
    {
     "data": {
      "text/plain": [
       "17"
      ]
     },
     "execution_count": 1,
     "metadata": {},
     "output_type": "execute_result"
    }
   ],
   "source": [
    "#This a simple arithmetic expression to mutiply then add integers\n",
    "(3*4)+5"
   ]
  },
  {
   "cell_type": "code",
   "execution_count": 3,
   "id": "98e1dbcc-8c62-4309-8a43-fa000acf9146",
   "metadata": {
    "tags": []
   },
   "outputs": [
    {
     "name": "stdout",
     "output_type": "stream",
     "text": [
      "200 minutes are:- 3.3333333333333335 hours\n"
     ]
    }
   ],
   "source": [
    "#This will convert 200 minutes to hours by diving by 60\n",
    "min=200\n",
    "hrs=min/60\n",
    "print(\"200 minutes are:-\",hrs,\"hours\")"
   ]
  },
  {
   "cell_type": "markdown",
   "id": "3bd65e36-f32b-4ae1-8ac1-14b420d09cd2",
   "metadata": {},
   "source": [
    "**Objectives:-**\n",
    "+ Creating a table of Data Science Open Source Environment Tools\n",
    "+ Using arithmetic expressions in python for multiplying and adding numbers\n",
    "+ Listing down all the Data science languages\n",
    "+ Making H1 style heading sentence\n",
    "+ Trying to make an ordered list for all the data science libraries"
   ]
  },
  {
   "cell_type": "markdown",
   "id": "872a6c2e-23b8-491e-8883-0b9dafb7fd45",
   "metadata": {},
   "source": [
    "## H2: Author\n",
    "# Varad Marathe"
   ]
  },
  {
   "cell_type": "code",
   "execution_count": null,
   "id": "155d2bff-f482-4299-8c0b-36d4885d1ced",
   "metadata": {},
   "outputs": [],
   "source": []
  }
 ],
 "metadata": {
  "kernelspec": {
   "display_name": "Python",
   "language": "python",
   "name": "conda-env-python-py"
  },
  "language_info": {
   "codemirror_mode": {
    "name": "ipython",
    "version": 3
   },
   "file_extension": ".py",
   "mimetype": "text/x-python",
   "name": "python",
   "nbconvert_exporter": "python",
   "pygments_lexer": "ipython3",
   "version": "3.7.12"
  }
 },
 "nbformat": 4,
 "nbformat_minor": 5
}
